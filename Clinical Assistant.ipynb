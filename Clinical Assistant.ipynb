{
 "cells": [
  {
   "cell_type": "markdown",
   "id": "c5b98852",
   "metadata": {},
   "source": [
    "## Step-1: Importing Required Libraries"
   ]
  },
  {
   "cell_type": "code",
   "execution_count": 1,
   "id": "a37b9098",
   "metadata": {},
   "outputs": [
    {
     "name": "stderr",
     "output_type": "stream",
     "text": [
      "/Users/yaswanthganapathi/anaconda3/lib/python3.11/site-packages/torch/utils/_pytree.py:185: FutureWarning: optree is installed but the version is too old to support PyTorch Dynamo in C++ pytree. C++ pytree support is disabled. Please consider upgrading optree using `python3 -m pip install --upgrade 'optree>=0.13.0'`.\n",
      "  warnings.warn(\n"
     ]
    },
    {
     "name": "stdout",
     "output_type": "stream",
     "text": [
      "pygame 2.5.1 (SDL 2.28.2, Python 3.11.4)\n",
      "Hello from the pygame community. https://www.pygame.org/contribute.html\n"
     ]
    },
    {
     "name": "stderr",
     "output_type": "stream",
     "text": [
      "[nltk_data] Downloading package punkt to\n",
      "[nltk_data]     /Users/yaswanthganapathi/nltk_data...\n",
      "[nltk_data]   Package punkt is already up-to-date!\n",
      "[nltk_data] Downloading package stopwords to\n",
      "[nltk_data]     /Users/yaswanthganapathi/nltk_data...\n",
      "[nltk_data]   Package stopwords is already up-to-date!\n"
     ]
    },
    {
     "data": {
      "text/plain": [
       "True"
      ]
     },
     "execution_count": 1,
     "metadata": {},
     "output_type": "execute_result"
    }
   ],
   "source": [
    "# Multilingual Support\n",
    "from langdetect import detect\n",
    "from googletrans import Translator\n",
    "# Transformers (TinyLlama), speech recognition, TTS\n",
    "import pandas as pd\n",
    "from transformers import AutoTokenizer, AutoModelForCausalLM, pipeline\n",
    "import speech_recognition as sr\n",
    "from gtts import gTTS\n",
    "import IPython.display as ipd\n",
    "import tempfile\n",
    "import torch\n",
    "import nltk\n",
    "import random\n",
    "import pygame  # This works well to auto-play audio instantly\n",
    "import time\n",
    "import tempfile\n",
    "from gtts import gTTS\n",
    "\n",
    "\n",
    "# Download necessary NLTK resources\n",
    "nltk.download('punkt')\n",
    "nltk.download('stopwords')"
   ]
  },
  {
   "cell_type": "markdown",
   "id": "dda02d9a",
   "metadata": {},
   "source": [
    "## Step-2: Loading TinyLlama Model"
   ]
  },
  {
   "cell_type": "code",
   "execution_count": 2,
   "id": "49ad1bdd",
   "metadata": {},
   "outputs": [
    {
     "name": "stderr",
     "output_type": "stream",
     "text": [
      "Some parameters are on the meta device because they were offloaded to the disk.\n"
     ]
    }
   ],
   "source": [
    "# Load TinyLlama model from Hugging Face\n",
    "model_id = \"TinyLlama/TinyLlama-1.1B-Chat-v1.0\"\n",
    "\n",
    "tokenizer = AutoTokenizer.from_pretrained(model_id)\n",
    "model = AutoModelForCausalLM.from_pretrained(model_id, device_map=\"auto\")\n",
    "\n",
    "# Setup pipeline\n",
    "generator = pipeline(\"text-generation\", model=model, tokenizer=tokenizer)"
   ]
  },
  {
   "cell_type": "markdown",
   "id": "39066526",
   "metadata": {},
   "source": [
    "## Step-3: Loading the Patient datasets"
   ]
  },
  {
   "cell_type": "code",
   "execution_count": 3,
   "id": "ba616caf",
   "metadata": {},
   "outputs": [
    {
     "name": "stdout",
     "output_type": "stream",
     "text": [
      "Column names from each dataset:\n",
      "df_profiles: ['patient_id', 'food_allergies', 'drug_allergies', 'diet_type', 'avoid_foods', 'food_intolerances', 'patient_name']\n",
      "df_encounters: ['patient_id', 'admission_date', 'discharge_date', 'diagnoses', 'medications', 'discharge_instructions', 'care_plan_goals', 'patient_name']\n",
      "df_labs: ['patient_id', 'lab_date', 'BNP', 'glucose', 'hemoglobin', 'creatinine', 'patient_name', 'interpretation']\n",
      "df_mental: ['patient_id', 'day', 'mood', 'stress_level', 'depression_score', 'patient_name']\n",
      "df_patients: ['patient_id', 'name', 'age', 'gender', 'date_of_birth', 'preferred_language', 'reading_level', 'address', 'patient_name']\n",
      "df_pghealth: ['patient_id', 'day', 'weight', 'systolic_bp', 'diastolic_bp', 'heart_rate', 'steps', 'sleep_duration', 'sleep_quality', 'patient_name']\n"
     ]
    }
   ],
   "source": [
    "# Load datasets using file paths from the uploaded files\n",
    "df_profiles = pd.read_csv(\"Created_Patients_Data/allergies_and_diet.csv\")\n",
    "df_encounters = pd.read_csv(\"Created_Patients_Data/clinical_encounters.csv\")\n",
    "df_labs = pd.read_csv(\"Created_Patients_Data/lab_results_current.csv\")\n",
    "df_mental = pd.read_csv(\"Created_Patients_Data/mental_health_mood_current.csv\")\n",
    "df_patients = pd.read_csv(\"Created_Patients_Data/patient_profiles.csv\")\n",
    "df_pghealth = pd.read_csv(\"Created_Patients_Data/pg_health_data_current.csv\")\n",
    "\n",
    "# Confirm loading by showing column names\n",
    "print(\"Column names from each dataset:\")\n",
    "print(\"df_profiles:\", df_profiles.columns.tolist())\n",
    "print(\"df_encounters:\", df_encounters.columns.tolist())\n",
    "print(\"df_labs:\", df_labs.columns.tolist())\n",
    "print(\"df_mental:\", df_mental.columns.tolist())\n",
    "print(\"df_patients:\", df_patients.columns.tolist())\n",
    "print(\"df_pghealth:\", df_pghealth.columns.tolist())\n"
   ]
  },
  {
   "cell_type": "markdown",
   "id": "ef0aa0fa",
   "metadata": {},
   "source": [
    "## Step-4: Voice Input and Output "
   ]
  },
  {
   "cell_type": "code",
   "execution_count": 4,
   "id": "aa1c7d46",
   "metadata": {},
   "outputs": [],
   "source": [
    "# Capture voice from microphone\n",
    "def listen_to_user():\n",
    "    recognizer = sr.Recognizer()\n",
    "    with sr.Microphone() as source:\n",
    "        print(\"🎤 Listening...\")\n",
    "        audio = recognizer.listen(source)\n",
    "        try:\n",
    "            user_input = recognizer.recognize_google(audio)\n",
    "            print(f\"🗣️ You said: {user_input}\")\n",
    "            return user_input\n",
    "        except:\n",
    "            print(\"❌ Sorry, I couldn't understand that.\")\n",
    "            return \"\"\n",
    "\n",
    "# Use gTTS to speak response\n",
    "def speak_response(text):\n",
    "    tts = gTTS(text=text, lang='en')\n",
    "    with tempfile.NamedTemporaryFile(delete=False, suffix=\".mp3\") as fp:\n",
    "        tts.save(fp.name)\n",
    "        pygame.mixer.init()\n",
    "        pygame.mixer.music.load(fp.name)\n",
    "        pygame.mixer.music.play()\n",
    "        while pygame.mixer.music.get_busy():\n",
    "            time.sleep(0.1)"
   ]
  },
  {
   "cell_type": "markdown",
   "id": "a8ecb9d2",
   "metadata": {},
   "source": [
    "## Step-5: Selecting Patient as per the Dataset"
   ]
  },
  {
   "cell_type": "code",
   "execution_count": 5,
   "id": "ae46390a",
   "metadata": {},
   "outputs": [],
   "source": [
    "def select_patient():\n",
    "    print(\"🩺 Available Patients:\")\n",
    "    for idx, row in df_patients.iterrows():\n",
    "        print(f\"{row['patient_id']}: {row['name']} ({row['preferred_language']})\")\n",
    "    \n",
    "    while True:\n",
    "        patient_id = input(\"\\nEnter the Patient ID to continue (e.g., P001): \").strip()\n",
    "        if patient_id in df_patients['patient_id'].values:\n",
    "            return patient_id\n",
    "        else:\n",
    "            print(\"❌ Invalid Patient ID. Please try again.\")\n"
   ]
  },
  {
   "cell_type": "markdown",
   "id": "0af45c12",
   "metadata": {},
   "source": [
    "## Step-6: Building Patient Context"
   ]
  },
  {
   "cell_type": "code",
   "execution_count": 7,
   "id": "76830927",
   "metadata": {},
   "outputs": [],
   "source": [
    "def build_patient_context(patient_id):\n",
    "    profile = df_patients[df_patients['patient_id'] == patient_id].iloc[0]\n",
    "    allergies = df_profiles[df_profiles['patient_id'] == patient_id]\n",
    "    mental = df_mental[df_mental['patient_id'] == patient_id]\n",
    "    labs = df_labs[df_labs['patient_id'] == patient_id]\n",
    "    encounters = df_encounters[df_encounters['patient_id'] == patient_id]\n",
    "    notes = df_pghealth[df_pghealth['patient_id'] == patient_id]\n",
    "\n",
    "    context = f\"\"\"\n",
    "🧑 Patient Info:\n",
    "Name: {profile['name']}\n",
    "Age: {profile['age']}, Gender: {profile['gender']}\n",
    "Preferred Language: {profile['preferred_language']}\n",
    "Reading Level: {profile['reading_level']}\n",
    "Address: {profile['address']}\n",
    "\n",
    "🌿 Allergies & Diet:\n",
    "Food Allergies: {', '.join(allergies['food_allergies'].dropna().unique())}\n",
    "Drug Allergies: {', '.join(allergies['drug_allergies'].dropna().unique())}\n",
    "Diet Type: {', '.join(allergies['diet_type'].dropna().unique())}\n",
    "Avoid Foods: {', '.join(allergies['avoid_foods'].dropna().unique())}\n",
    "Food Intolerances: {', '.join(allergies['food_intolerances'].dropna().unique())}\n",
    "\n",
    "🧠 Mental Health:\n",
    "Recent Mood(s): {', '.join(mental['mood'].dropna().unique())}\n",
    "Stress Level(s): {', '.join(map(str, mental['stress_level'].dropna().unique()))}\n",
    "Depression Score(s): {', '.join(map(str, mental['depression_score'].dropna().unique()))}\n",
    "\n",
    "🧪 Lab Results:\n",
    "{\"; \".join(labs['interpretation'].dropna().unique())}\n",
    "\n",
    "📋 Clinical Encounters:\n",
    "\"\"\"\n",
    "    for _, row in encounters.iterrows():\n",
    "        context += f\"- Diagnosed with {row['diagnoses']} | Medications: {row['medications']}\\n\"\n",
    "\n",
    "    context += \"\\n📊 Daily Health Notes:\\n\"\n",
    "    for _, row in notes.iterrows():\n",
    "        context += f\"- Date: {row['day']}, Sleep: {row['sleep_quality']} hrs, Steps: {row['steps']}, Heart Rate: {row['heart_rate']} bpm\\n\"\n",
    "\n",
    "    return context\n"
   ]
  },
  {
   "cell_type": "code",
   "execution_count": 6,
   "id": "b6baedf1",
   "metadata": {},
   "outputs": [],
   "source": [
    "def build_patient_context(patient_id):\n",
    "    # Get patient profile\n",
    "    profile = df_patients[df_patients['patient_id'] == patient_id].iloc[0]\n",
    "    allergies_info = df_profiles[df_profiles['patient_id'] == patient_id].iloc[0]\n",
    "    moods = df_mental[df_mental['patient_id'] == patient_id]['mood'].dropna().unique()\n",
    "    lab_interpretations = df_labs[df_labs['patient_id'] == patient_id]['interpretation'].dropna().unique()\n",
    "    encounters = df_encounters[df_encounters['patient_id'] == patient_id]\n",
    "    notes = df_pghealth[df_pghealth['patient_id'] == patient_id]\n",
    "\n",
    "    # Format context string\n",
    "    context = f\"\"\"\n",
    "👤 Patient Name: {profile['name']}\n",
    "Age: {profile['age']}, Gender: {profile['gender']}, Language: {profile['preferred_language']}\n",
    "Address: {profile['address']}\n",
    "\n",
    "🍽️ Diet Type: {allergies_info['diet_type']}\n",
    "Food Allergies: {allergies_info['food_allergies']}\n",
    "Drug Allergies: {allergies_info['drug_allergies']}\n",
    "Avoid Foods: {allergies_info['avoid_foods']}\n",
    "Food Intolerances: {allergies_info['food_intolerances']}\n",
    "\n",
    "🧠 Mental Health Moods: {', '.join(moods)}\n",
    "\n",
    "🧪 Lab Interpretations:\n",
    "- {'; '.join(lab_interpretations)}\n",
    "\n",
    "🏥 Clinical Encounters:\n",
    "\"\"\"\n",
    "    for _, row in encounters.iterrows():\n",
    "        context += f\"  • Diagnoses: {row['diagnoses']}, Medications: {row['medications']}\\n\"\n",
    "        context += f\"    Care Goals: {row['care_plan_goals']}, Discharge Notes: {row['discharge_instructions']}\\n\"\n",
    "\n",
    "    context += \"\\n📊 Personal Health Tracking:\\n\"\n",
    "    for _, row in notes.iterrows():\n",
    "        context += f\"  • Date: {row['day']}, Weight: {row['weight']}kg, BP: {row['systolic_bp']}/{row['diastolic_bp']} mmHg, Sleep: {row['sleep_duration']}h, Mood: {row['sleep_quality']}\\n\"\n",
    "\n",
    "    return context.strip()\n"
   ]
  },
  {
   "cell_type": "markdown",
   "id": "ee654b0d",
   "metadata": {},
   "source": [
    "## Step-7: Loop to run the Clinical Assistant"
   ]
  },
  {
   "cell_type": "code",
   "execution_count": 10,
   "id": "fc9417df",
   "metadata": {},
   "outputs": [],
   "source": [
    "def run_virtual_nurse():\n",
    "    patient_id = select_patient()\n",
    "    context = build_patient_context(patient_id)\n",
    "\n",
    "    print(\"\\n🩺 Virtual Nurse is ready. Say 'stop' to end the conversation.\\n\")\n",
    "    \n",
    "    # Greeting messages (randomized)\n",
    "    greetings = [\n",
    "        \"Hi, I'm your Clinical Assistant. How can I help you today?\",\n",
    "        \"Hello, I'm here to support you with your health. What's on your mind?\",\n",
    "        \"Hi there! I'm your assistant nurse. Feel free to ask me anything health related.\",\n",
    "        \"Welcome! I’m your virtual healthcare assistant. Let’s begin. Say 'stop' to exit.\"\n",
    "    ]\n",
    "    greeting = random.choice(greetings)\n",
    "    \n",
    "    print(f\"🩺 Virtual Nurse: {greeting}\")\n",
    "    speak_response(greeting)\n",
    "\n",
    "    while True:\n",
    "        user_query = listen_to_user()\n",
    "\n",
    "        if user_query.lower() in [\"stop\", \"exit\", \"quit\", \"thank you exit\", \"thank you stop\", \"thank you quit\", \"please stop\", \"please exit\", \"please quit\"]:\n",
    "            goodbye = \"Okay. Take care and stay healthy!\"\n",
    "            print(\"👋 Virtual Nurse:\", goodbye)\n",
    "            speak_response(goodbye)\n",
    "            break\n",
    "\n",
    "        if user_query:\n",
    "            # Full prompt with personalized context\n",
    "            prompt = f\"\"\"\n",
    "You are a friendly and professional virtual nurse. Use the patient information provided to answer the user's health-related question in a supportive, conversational tone.\n",
    "\n",
    "Patient Information:\n",
    "{context}\n",
    "\n",
    "Patient's Question: {user_query}\n",
    "\n",
    "Virtual Nurse:\"\"\"\n",
    "\n",
    "            # Generate response using TinyLlama\n",
    "            response = generator(\n",
    "                prompt,\n",
    "                max_new_tokens=100,\n",
    "                do_sample=True,\n",
    "                top_p=0.9,\n",
    "                temperature=0.7\n",
    "            )[0][\"generated_text\"]\n",
    "\n",
    "            # Clean the response\n",
    "            final_response = response.replace(prompt, \"\").strip()\n",
    "\n",
    "            print(\"🤖 Virtual Nurse:\", final_response)\n",
    "            speak_response(final_response)\n"
   ]
  },
  {
   "cell_type": "code",
   "execution_count": 11,
   "id": "da0f29bc",
   "metadata": {},
   "outputs": [],
   "source": [
    "# To Suppress warnings\n",
    "import os\n",
    "os.environ[\"TOKENIZERS_PARALLELISM\"] = \"false\""
   ]
  },
  {
   "cell_type": "markdown",
   "id": "37bbaad4",
   "metadata": {},
   "source": [
    "## Step-8: Run the Assistant"
   ]
  },
  {
   "cell_type": "code",
   "execution_count": 13,
   "id": "65acf58b",
   "metadata": {},
   "outputs": [
    {
     "name": "stdout",
     "output_type": "stream",
     "text": [
      "🩺 Available Patients:\n",
      "P001: Linda Thompson (English)\n",
      "P002: Ravi Patel (Hindi)\n",
      "P003: Sofia Ramirez (Spanish)\n",
      "\n",
      "Enter the Patient ID to continue (e.g., P001): P002\n",
      "\n",
      "🩺 Virtual Nurse is ready. Say 'stop' to end the conversation.\n",
      "\n",
      "🩺 Virtual Nurse: Welcome! I’m your virtual healthcare assistant. Let’s begin. Say 'stop' to exit.\n",
      "🎤 Listening...\n",
      "🗣️ You said: hi I'm Ravi I'm having high temperature since 2 days what can I do\n",
      "🤖 Virtual Nurse: Hi Ravi, Thank you for sharing your patient information. Based on the medical history you provided, it seems that you have high blood sugar and high BP. We recommend that you follow the following steps to manage your health:\n",
      "\n",
      "1. Monitor your blood sugar and take your medications as directed by your healthcare provider. 2. Make sure to get enough sleep, as sleep is important for maintaining good health. 3. Avoid eating fried foods,\n",
      "🎤 Listening...\n",
      "🗣️ You said: okay what can I eat for dinner tonight can you suggest me as for my health records\n",
      "🤖 Virtual Nurse: Sure, here are some healthy vegetarian dinner recipes that you can try:\n",
      "\n",
      "1. Lentil and vegetable curry\n",
      "\n",
      "Ingredients:\n",
      "- 1 cup lentils\n",
      "- 1 cup chopped vegetables (e.g., carrots, peas, onions)\n",
      "- 1 cup vegetable broth\n",
      "- 1 tbsp olive oil\n",
      "- Salt and pepper to taste\n",
      "\n",
      "Directions\n",
      "🎤 Listening...\n",
      "🗣️ You said: thank you exit\n",
      "👋 Virtual Nurse: Okay. Take care and stay healthy!\n"
     ]
    }
   ],
   "source": [
    "# To start it\n",
    "run_virtual_nurse()"
   ]
  },
  {
   "cell_type": "code",
   "execution_count": null,
   "id": "a60f7276",
   "metadata": {},
   "outputs": [],
   "source": []
  }
 ],
 "metadata": {
  "kernelspec": {
   "display_name": "Python 3 (ipykernel)",
   "language": "python",
   "name": "python3"
  },
  "language_info": {
   "codemirror_mode": {
    "name": "ipython",
    "version": 3
   },
   "file_extension": ".py",
   "mimetype": "text/x-python",
   "name": "python",
   "nbconvert_exporter": "python",
   "pygments_lexer": "ipython3",
   "version": "3.11.4"
  }
 },
 "nbformat": 4,
 "nbformat_minor": 5
}
